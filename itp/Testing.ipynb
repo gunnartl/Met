{
 "cells": [
  {
   "cell_type": "code",
   "execution_count": 10,
   "metadata": {},
   "outputs": [],
   "source": [
    "import pandas as pd \n",
    "import glob\n",
    "import xarray as xr\n",
    "import time"
   ]
  },
  {
   "cell_type": "code",
   "execution_count": 70,
   "metadata": {},
   "outputs": [
    {
     "name": "stdout",
     "output_type": "stream",
     "text": [
      "776 1\n",
      "753 2\n",
      "751 3\n",
      "753 4\n",
      "754 5\n",
      "754 6\n",
      "750 7\n",
      "753 8\n",
      "762 9\n",
      "754 10\n",
      "Det tok 0.2180626392364502\n"
     ]
    },
    {
     "data": {
      "text/plain": [
       "{'featureType': 'trajectoryProfile'}"
      ]
     },
     "execution_count": 70,
     "metadata": {},
     "output_type": "execute_result"
    }
   ],
   "source": [
    "path = \"data/101\"\n",
    "\n",
    "more_files = sorted(glob.glob(path + \"/*.dat\"))[:10] \n",
    "#prøverunnde med noen filer. denne finner alle filene som slutterpå \".dat\" og leser bare de 10 første\n",
    "#ikke utvit til noe særlig mer en typ 20-30 stasjoner. da sprenger pcen. burde gå bedre når vi effektiviserer etterpå\n",
    "\n",
    "\n",
    "first = True\n",
    "start = time.time()\n",
    "for i in more_files:\n",
    "    \n",
    "    df = pd.read_table(i,skiprows=2, delim_whitespace=True,skipfooter=1,engine=\"python\")\n",
    "    \n",
    "    \n",
    "    if(df.values.shape[0]<10): # \n",
    "        continue\n",
    "    \n",
    "    meta = pd.read_table(i,skiprows=None,sep=\"\\s+\",nrows=1,engine=\"python\")\n",
    "    print(df.values.shape[0], int(str(meta.head().columns[3])[:-1]))\n",
    "    \n",
    "    measurement_time = pd.to_datetime(float(meta.values[0,1]),origin=str(int(meta.values[0,0])),unit=\"D\")\n",
    "    measurement_lat  = float(meta.values[0,2])\n",
    "    measurement_lon  = float(meta.values[0,3])\n",
    "    #print(measurement_time)\n",
    "    \n",
    "    \n",
    "    if \"%year\" in df.columns:\n",
    "        df = df.drop([\"%year\",\"day\"],axis=1)\n",
    "    if \"nobs\" in df.columns:\n",
    "        df = df.drop(\"nobs\",axis=1)\n",
    "    #if \"dissolved_oxygen\" in df.columns:\n",
    "        #df = df.rename(columns={\"dissolved_oxygen\"})\n",
    "    \n",
    "    df.rename(columns={\"%pressure(dbar)\":\"pressure\",\"pressure(dbar)\":\"pressure\",\"temperature(C)\":\"temperature\"}, inplace=True)\n",
    "    df = df.set_index(\"pressure\")\n",
    "\n",
    "    ds = xr.Dataset.from_dataframe(df)\n",
    "    \n",
    "\n",
    "    ds[\"time\"] = measurement_time\n",
    "    ds[\"lat\"]  = measurement_lat\n",
    "    ds[\"lon\"]  = measurement_lon\n",
    "    \n",
    "    #profile_nr = int(list(pd.read_table(i,sep=\"[:, ]\",nrows=0,engine=\"python\"))[4])\n",
    "    profile_nr = int(str(meta.head().columns[3])[:-1])\n",
    "    \n",
    "    \n",
    "    ds = ds.assign_coords(profile=profile_nr)\n",
    "    ds = ds.expand_dims(\"profile\")\n",
    "\n",
    "    \n",
    "    # joining files\n",
    "    if first==True:\n",
    "        itp114 = ds\n",
    "        first=False\n",
    "    else:\n",
    "        itp114=xr.concat([itp114,ds],dim = \"profile\")\n",
    "        #concat gjør at det blir mye nan i temp og salinity, men det følger cf. hør med Steingod\n",
    "\n",
    "print(\"Det tok\", time.time()-start)\n",
    "\n",
    "#La oss fikse litt metadata da\n",
    "#legg til alle de her greiene: https://adc.met.no/node/4\n",
    "\n",
    "itp114.time.attrs[\"standard_name\"] = \"time\"\n",
    "itp114.time.attrs[\"units\"] = \"seconds since 1970-01-01 00:00:00+0\"# husk å faktisk endre til dette formatet\n",
    "itp114[\"temperature\"].attrs[\"standard_name\"] = \"sea_water_temperature\"\n",
    "itp114[\"temperature\"].attrs[\"units\"] = \"celcius\" # husk å bytte til kelvin\n",
    "itp114[\"pressure\"].attrs[\"standard_name\"] = \"sea_water_pressure\"\n",
    "itp114[\"pressure\"].attrs[\"units\"] = \"dbar\"\n",
    "itp114[\"dissolved_oxygen\"].attrs[\"standard_name\"] = \"moles_of_oxygen_per_unit_mass_in_sea_water\"\n",
    "itp114[\"dissolved_oxygen\"].attrs[\"units\"] = \"umol/kg\"\n",
    "\n",
    "itp114.attrs[\"featureType\"] = \"trajectoryProfile\"\n",
    "\n",
    "itp114.attrs"
   ]
  },
  {
   "cell_type": "code",
   "execution_count": null,
   "metadata": {},
   "outputs": [],
   "source": []
  },
  {
   "cell_type": "markdown",
   "metadata": {},
   "source": [
    "Info:\n",
    "====\n",
    "**infoen er forløpig basert på gjennomgang av bare en bøye + at jeg har sett litt på hva som står om de andre. Så den kan være ugenerell, oppdaterer fortløpende. **\n",
    "\n",
    "\n",
    "Data fra bøyene inholder profiler med trykk, temp og salt. \n",
    "Hver profil har en .dat fil med en header som inneholder starttid for profilen, lat,long og hvor mange målinger fila inneholder. enhet for tid er ÅR DAG, der dag har desimaler som gir klokkeslett. dag begynner på 1, ikke null. \n",
    "\n",
    "Noen bøyer har også andre målinger: bøya jeg nå ser på, 114, har to fastmonterte microcatsensorer som måler på 5 og 6 meters dyp hvert kvarter. de ligger i filene som har micro i navnet og er mye større. \n",
    "\n",
    "Jobber i første omgang med å lage et program som henter data fra én profil og en bøye.\n",
    "\n",
    "\n",
    "Lage et program som dumper dette til netCDF-CF. \n",
    "\n",
    "\n",
    "Tanker og Spørsmål:\n",
    "============\n",
    "\n",
    "\n",
    "\n",
    "Ser ut til at metadata og discover-metadata må hardcodes for å stemme med standarene for [metadata]() og [discover-metadata](https://adc.met.no/node/4)\n",
    "\n",
    "Skal jeg bruke trajectoryProfile eller Profile\n",
    "\n",
    "skal jeg inkludere mlinger fra f.eks microcat-sensorene "
   ]
  }
 ],
 "metadata": {
  "kernelspec": {
   "display_name": "Python 3",
   "language": "python",
   "name": "python3"
  },
  "language_info": {
   "codemirror_mode": {
    "name": "ipython",
    "version": 3
   },
   "file_extension": ".py",
   "mimetype": "text/x-python",
   "name": "python",
   "nbconvert_exporter": "python",
   "pygments_lexer": "ipython3",
   "version": "3.8.5"
  }
 },
 "nbformat": 4,
 "nbformat_minor": 4
}
