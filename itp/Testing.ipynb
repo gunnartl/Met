{
 "cells": [
  {
   "cell_type": "code",
   "execution_count": 1,
   "metadata": {},
   "outputs": [],
   "source": [
    "import pandas as pd \n",
    "import glob\n",
    "import xarray as xr"
   ]
  },
  {
   "cell_type": "code",
   "execution_count": 64,
   "metadata": {},
   "outputs": [
    {
     "name": "stdout",
     "output_type": "stream",
     "text": [
      "2019-09-22 02:02:04.128000\n",
      "2019-09-23 00:02:01.824000\n",
      "2019-09-23 02:47:02.400000\n",
      "2019-09-23 03:02:00.960000\n",
      "2019-09-23 06:02:01.824000\n",
      "2019-09-23 07:17:00.672000\n",
      "2019-09-23 07:32:00.960000\n",
      "2019-09-23 08:47:02.400000\n",
      "2019-09-23 09:02:00.960000\n",
      "2019-09-23 12:02:01.824000\n"
     ]
    },
    {
     "data": {
      "text/html": [
       "<pre>&lt;xarray.Dataset&gt;\n",
       "Dimensions:                (depth: 378, profile: 10)\n",
       "Coordinates:\n",
       "  * depth                  (depth) int64 6 8 10 12 14 16 ... 752 754 756 758 760\n",
       "  * profile                (profile) int64 0 1 2 3 4 5 6 7 8 9\n",
       "Data variables:\n",
       "    sea_water_temperature  (profile, depth) float64 nan nan nan ... nan nan nan\n",
       "    sea_water_salinity     (profile, depth) float64 nan nan nan ... nan nan nan\n",
       "    time                   (profile) datetime64[ns] 2019-09-22T02:02:04.128000 ... 2019-09-23T12:02:01.824000\n",
       "    lat                    (profile) float64 -145.2 -145.9 ... -146.1 -146.1\n",
       "    lon                    (profile) float64 77.97 77.99 77.99 ... 78.0 78.0</pre>"
      ],
      "text/plain": [
       "<xarray.Dataset>\n",
       "Dimensions:                (depth: 378, profile: 10)\n",
       "Coordinates:\n",
       "  * depth                  (depth) int64 6 8 10 12 14 16 ... 752 754 756 758 760\n",
       "  * profile                (profile) int64 0 1 2 3 4 5 6 7 8 9\n",
       "Data variables:\n",
       "    sea_water_temperature  (profile, depth) float64 nan nan nan ... nan nan nan\n",
       "    sea_water_salinity     (profile, depth) float64 nan nan nan ... nan nan nan\n",
       "    time                   (profile) datetime64[ns] 2019-09-22T02:02:04.128000 ... 2019-09-23T12:02:01.824000\n",
       "    lat                    (profile) float64 -145.2 -145.9 ... -146.1 -146.1\n",
       "    lon                    (profile) float64 77.97 77.99 77.99 ... 78.0 78.0"
      ]
     },
     "execution_count": 64,
     "metadata": {},
     "output_type": "execute_result"
    }
   ],
   "source": [
    "path = \"data/114\"\n",
    "\n",
    "more_files = sorted(glob.glob(path + \"/*.dat\"))[:10] \n",
    "#prøverunnde med noen filer. denne finner alle filene som slutterpå \".dat\" og leser bare de 10 første\n",
    "#ikke utvit til noe særlig mer en typ 20-30 stasjoner. da sprenger pcen. burde gå bedre når vi effektiviserer etterpå\n",
    "\n",
    "\n",
    "itp114 = xr.Dataset()\n",
    "first = True\n",
    "\n",
    "for i in more_files:\n",
    "    meta = pd.read_table(i,skiprows=1,delim_whitespace=True,nrows=0,engine=\"python\")\n",
    "    #finn en bedre måte å behandle de forskjellige delene av filene på. \n",
    "    #nå åpner jeg fila 3 ganer for å finne forskjellige deler av datan. jævlig teit\n",
    "    measurement_time = pd.to_datetime(float(meta.columns.values[1]),origin=meta.columns.values[0],unit=\"D\")\n",
    "    measurement_lat  = float(meta.columns[2])\n",
    "    measurement_lon  = float(meta.columns[3])\n",
    "    print(measurement_time)\n",
    "    \n",
    "    #andre åpning av fil, for å finne tid:\n",
    "    df = pd.read_table(i,skiprows=2, delim_whitespace=True,skipfooter=1,engine=\"python\").drop([\"%year\",\"day\"],axis=1)\n",
    "\n",
    "    \n",
    "    df.rename(columns={\"pressure(dbar)\":\"depth\"}, inplace=True) # noget unøaktig konvertering eller?\n",
    "    df = df.set_index(\"depth\")\n",
    "\n",
    "\n",
    "    ds = xr.Dataset.from_dataframe(df)\n",
    "    \n",
    "    #standard names\n",
    "    ds = ds.rename({\"salinity\":\"sea_water_salinity\",\"temperature(C)\":\"sea_water_temperature\"})\n",
    "\n",
    "    ds[\"time\"] = measurement_time\n",
    "    ds[\"lat\"]  = measurement_lat\n",
    "    ds[\"lon\"]  = measurement_lon\n",
    "    \n",
    "    profile_nr = int(list(pd.read_table(i,sep=\"[:, ]\",nrows=0,engine=\"python\"))[4])\n",
    "    \n",
    "    \n",
    "    \n",
    "    ds = ds.assign_coords(profile=profile_nr)\n",
    "    ds = ds.expand_dims(\"profile\")\n",
    "\n",
    "    \n",
    "    # joining files\n",
    "    if first==True:\n",
    "        itp114 = ds\n",
    "        first=False\n",
    "    else:\n",
    "        itp114=xr.concat([itp114,ds],dim = \"profile\") \n",
    "        #concat gjør at det blir mye nan i temp og salinity, men det følger cf. hør med Steingod\n",
    "\n",
    "\n",
    "#La oss fikse litt metadata da\n",
    "#legg til alle de her greiene: https://adc.met.no/node/4\n",
    "\n",
    "ds.time.attrs[\"standard_name\"] = \"time\"\n",
    "ds.time.attrs[\"units\"] = \"seconds since 1970-01-01 00:00:00+0\"# husk å faktisk endre til dette formatet\n",
    "ds[\"sea_water_temperature\"].attrs[\"standard_name\"] = \"sea_water_temperature\"\n",
    "ds[\"sea_water_temperature\"].attrs[\"units\"] = \"celcius\" # husk å bytte til kelvin\n",
    "\n",
    "ds.attrs[\"featureType\"] = \"trajectoryProfile\"\n",
    "\n",
    "itp114"
   ]
  },
  {
   "cell_type": "markdown",
   "metadata": {},
   "source": [
    "Info:\n",
    "====\n",
    "**infoen er forløpig basert på gjennomgang av bare en bøye + at jeg har sett litt på hva som står om de andre. Så den kan være ugenerell, oppdaterer fortløpende. **\n",
    "\n",
    "\n",
    "Data fra bøyene inholder profiler med trykk, temp og salt. \n",
    "Hver profil har en .dat fil med en header som inneholder starttid for profilen, lat,long og hvor mange målinger fila inneholder. enhet for tid er ÅR DAG, der dag har desimaler som gir klokkeslett. dag begynner på 1, ikke null. \n",
    "\n",
    "Noen bøyer har også andre målinger: bøya jeg nå ser på, 114, har to fastmonterte microcatsensorer som måler på 5 og 6 meters dyp hvert kvarter. de ligger i filene som har micro i navnet og er mye større. \n",
    "\n",
    "Jobber i første omgang med å lage et program som henter data fra én profil og en bøye.\n",
    "\n",
    "\n",
    "Lage et program som dumper dette til netCDF-CF. \n",
    "\n",
    "\n",
    "Tanker og Spørsmål:\n",
    "============\n",
    "\n",
    "\n",
    "\n",
    "Ser ut til at metadata og discover-metadata må hardcodes for å stemme med standarene for [metadata]() og [discover-metadata](https://adc.met.no/node/4)\n",
    "\n",
    "Skal jeg bruke trajectoryProfile eller Profile\n",
    "\n",
    "skal jeg inkludere mlinger fra f.eks microcat-sensorene "
   ]
  }
 ],
 "metadata": {
  "kernelspec": {
   "display_name": "Python 3",
   "language": "python",
   "name": "python3"
  },
  "language_info": {
   "codemirror_mode": {
    "name": "ipython",
    "version": 3
   },
   "file_extension": ".py",
   "mimetype": "text/x-python",
   "name": "python",
   "nbconvert_exporter": "python",
   "pygments_lexer": "ipython3",
   "version": "3.8.5"
  }
 },
 "nbformat": 4,
 "nbformat_minor": 4
}
